{
 "cells": [
  {
   "cell_type": "code",
   "execution_count": 43,
   "metadata": {},
   "outputs": [],
   "source": [
    "from sklearn.svm import OneClassSVM\n",
    "import pandas as pd\n",
    "from sklearn.model_selection import train_test_split\n",
    "import matplotlib.pyplot as plt\n",
    "import numpy as np\n",
    "from sklearn.decomposition import PCA\n",
    "from sklearn.metrics import accuracy_score, classification_report\n",
    "from sklearn.ensemble import IsolationForest"
   ]
  },
  {
   "cell_type": "code",
   "execution_count": 44,
   "metadata": {},
   "outputs": [],
   "source": [
    "file_p = 'dataset.csv'\n",
    "data = pd.read_csv(file_p)\n",
    "\n",
    "new_p = '/home/moe/Desktop/DOF1.0_Modeling-to-expand-your-Data/output.csv'\n",
    "output_data = pd.read_csv(new_p)"
   ]
  },
  {
   "cell_type": "code",
   "execution_count": 45,
   "metadata": {},
   "outputs": [],
   "source": [
    "nu = 0.2\n",
    "degree = 2"
   ]
  },
  {
   "cell_type": "code",
   "execution_count": 46,
   "metadata": {},
   "outputs": [],
   "source": [
    "svm_model = OneClassSVM(kernel='poly', degree=degree, nu=nu)\n",
    "svm_model.fit(data)\n",
    "predictions_for_poly = []"
   ]
  },
  {
   "cell_type": "code",
   "execution_count": 47,
   "metadata": {},
   "outputs": [
    {
     "name": "stdout",
     "output_type": "stream",
     "text": [
      "Predictions: [ 1 -1  1 ...  1  1  1]\n",
      "The predictions of the training data: 75.3081876724931\n"
     ]
    },
    {
     "data": {
      "text/plain": [
       "75.3081876724931"
      ]
     },
     "execution_count": 47,
     "metadata": {},
     "output_type": "execute_result"
    }
   ],
   "source": [
    "random_20_percent = data.sample(frac=0.2, random_state=42)  # Set random_state for reproducibility\n",
    "\n",
    "predictions = svm_model.predict(random_20_percent)\n",
    "print(\"Predictions:\", predictions)\n",
    "num_inliers_out = np.sum(predictions == 1)\n",
    "percentage_inliers = (num_inliers_out / len(predictions)) * 100\n",
    "predictions_for_poly.append(percentage_inliers)\n",
    "print(f\"The predictions of the training data: {percentage_inliers}\")\n",
    "percentage_inliers"
   ]
  },
  {
   "cell_type": "code",
   "execution_count": 48,
   "metadata": {},
   "outputs": [
    {
     "name": "stdout",
     "output_type": "stream",
     "text": [
      "The predictions of the output data: 66.8\n"
     ]
    },
    {
     "data": {
      "text/plain": [
       "66.8"
      ]
     },
     "execution_count": 48,
     "metadata": {},
     "output_type": "execute_result"
    }
   ],
   "source": [
    "\n",
    "predictions = svm_model.predict(output_data)\n",
    "#print(\"Predictions:\", predictions)\n",
    "num_inliers = np.sum(predictions == 1)\n",
    "percentage_inliers = (num_inliers / len(predictions)) * 100\n",
    "predictions_for_poly.append(percentage_inliers)\n",
    "print(f\"The predictions of the output data: {percentage_inliers}\")\n",
    "percentage_inliers"
   ]
  },
  {
   "cell_type": "code",
   "execution_count": 49,
   "metadata": {},
   "outputs": [
    {
     "name": "stdout",
     "output_type": "stream",
     "text": [
      "Percentage of inliers for the testing data it self: 86.15%\n"
     ]
    }
   ],
   "source": [
    "random_20_percent = data.sample(frac=0.2, random_state=42)  # Set random_state for reproducibility\n",
    "\n",
    "# Remove the selected 20% from the original DataFrame\n",
    "data_2 = data.drop(random_20_percent.index)\n",
    "clf3 = OneClassSVM(kernel='poly', degree=degree, nu=nu)\n",
    "clf3.fit(data_2)\n",
    "\n",
    "predictions1 = clf3.predict(random_20_percent)\n",
    "random_20_percent['prediction'] = predictions1\n",
    "num_inliers_out = np.sum(predictions1 == 1)\n",
    "percentage_inliers_out = (num_inliers_out / len(predictions1)) * 100\n",
    "predictions_for_poly.append(percentage_inliers_out)\n",
    "print(f\"Percentage of inliers for the testing data it self: {percentage_inliers_out:.2f}%\")"
   ]
  },
  {
   "cell_type": "code",
   "execution_count": 50,
   "metadata": {},
   "outputs": [
    {
     "name": "stdout",
     "output_type": "stream",
     "text": [
      "Predictions: [1 1 1 ... 1 1 1]\n"
     ]
    },
    {
     "data": {
      "text/plain": [
       "85.62557497700092"
      ]
     },
     "execution_count": 50,
     "metadata": {},
     "output_type": "execute_result"
    }
   ],
   "source": [
    "random_20_percent = data_2.sample(frac=0.2, random_state=42)  # Set random_state for reproducibility\n",
    "\n",
    "predictions = clf3.predict(random_20_percent)\n",
    "print(\"Predictions:\", predictions)\n",
    "num_inliers_out = np.sum(predictions == 1)\n",
    "percentage_inliers = (num_inliers_out / len(predictions)) * 100\n",
    "predictions_for_poly.append(percentage_inliers)\n",
    "\n",
    "percentage_inliers"
   ]
  },
  {
   "cell_type": "code",
   "execution_count": 51,
   "metadata": {},
   "outputs": [
    {
     "data": {
      "text/plain": [
       "73.7"
      ]
     },
     "execution_count": 51,
     "metadata": {},
     "output_type": "execute_result"
    }
   ],
   "source": [
    "output_data = pd.read_csv(new_p)\n",
    "predictions = clf3.predict(output_data)\n",
    "#print(\"Predictions:\", predictions)\n",
    "num_inliers = np.sum(predictions == 1)\n",
    "percentage_inliers = (num_inliers / len(predictions)) * 100\n",
    "predictions_for_poly.append(percentage_inliers)\n",
    "percentage_inliers"
   ]
  }
 ],
 "metadata": {
  "kernelspec": {
   "display_name": "Python 3",
   "language": "python",
   "name": "python3"
  },
  "language_info": {
   "codemirror_mode": {
    "name": "ipython",
    "version": 3
   },
   "file_extension": ".py",
   "mimetype": "text/x-python",
   "name": "python",
   "nbconvert_exporter": "python",
   "pygments_lexer": "ipython3",
   "version": "3.8.10"
  }
 },
 "nbformat": 4,
 "nbformat_minor": 2
}
